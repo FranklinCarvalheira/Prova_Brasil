{
 "cells": [
  {
   "cell_type": "code",
   "execution_count": 8,
   "metadata": {},
   "outputs": [],
   "source": [
    "import pandas as pd\n",
    "import os\n",
    "import seaborn as sb\n",
    "import parse\n",
    "low_memory=False\n",
    "%matplotlib inline\n",
    "pd.options.display.max_columns = 80\n",
    "pd.options.display.max_rows = 90"
   ]
  },
  {
   "cell_type": "code",
   "execution_count": 78,
   "metadata": {
    "scrolled": true
   },
   "outputs": [
    {
     "data": {
      "text/html": [
       "<div>\n",
       "<style scoped>\n",
       "    .dataframe tbody tr th:only-of-type {\n",
       "        vertical-align: middle;\n",
       "    }\n",
       "\n",
       "    .dataframe tbody tr th {\n",
       "        vertical-align: top;\n",
       "    }\n",
       "\n",
       "    .dataframe thead th {\n",
       "        text-align: right;\n",
       "    }\n",
       "</style>\n",
       "<table border=\"1\" class=\"dataframe\">\n",
       "  <thead>\n",
       "    <tr style=\"text-align: right;\">\n",
       "      <th></th>\n",
       "      <th>NOME_MUNICIPIO</th>\n",
       "      <th>ID_SERIE</th>\n",
       "      <th>NU_MATRICULADOS_CENSO</th>\n",
       "      <th>NU_PRESENTES</th>\n",
       "      <th>MEDIA_LP</th>\n",
       "      <th>ERRO_PADRAO_LP</th>\n",
       "    </tr>\n",
       "  </thead>\n",
       "  <tbody>\n",
       "    <tr>\n",
       "      <th>0</th>\n",
       "      <td>ACRELANDIA</td>\n",
       "      <td>5</td>\n",
       "      <td>23</td>\n",
       "      <td>13</td>\n",
       "      <td>171,22</td>\n",
       "      <td>0</td>\n",
       "    </tr>\n",
       "    <tr>\n",
       "      <th>1</th>\n",
       "      <td>ACRELANDIA</td>\n",
       "      <td>9</td>\n",
       "      <td>214</td>\n",
       "      <td>174</td>\n",
       "      <td>225,3</td>\n",
       "      <td>,71</td>\n",
       "    </tr>\n",
       "    <tr>\n",
       "      <th>2</th>\n",
       "      <td>ACRELANDIA</td>\n",
       "      <td>9</td>\n",
       "      <td>159</td>\n",
       "      <td>134</td>\n",
       "      <td>222,02</td>\n",
       "      <td>0</td>\n",
       "    </tr>\n",
       "    <tr>\n",
       "      <th>3</th>\n",
       "      <td>ACRELANDIA</td>\n",
       "      <td>5</td>\n",
       "      <td>23</td>\n",
       "      <td>13</td>\n",
       "      <td>171,22</td>\n",
       "      <td>0</td>\n",
       "    </tr>\n",
       "    <tr>\n",
       "      <th>4</th>\n",
       "      <td>ACRELANDIA</td>\n",
       "      <td>9</td>\n",
       "      <td>55</td>\n",
       "      <td>40</td>\n",
       "      <td>234,8</td>\n",
       "      <td>3,26</td>\n",
       "    </tr>\n",
       "    <tr>\n",
       "      <th>...</th>\n",
       "      <td>...</td>\n",
       "      <td>...</td>\n",
       "      <td>...</td>\n",
       "      <td>...</td>\n",
       "      <td>...</td>\n",
       "      <td>...</td>\n",
       "    </tr>\n",
       "    <tr>\n",
       "      <th>60603</th>\n",
       "      <td>XAMBIOA</td>\n",
       "      <td>5</td>\n",
       "      <td>28</td>\n",
       "      <td>26</td>\n",
       "      <td>174,17</td>\n",
       "      <td>0</td>\n",
       "    </tr>\n",
       "    <tr>\n",
       "      <th>60604</th>\n",
       "      <td>XAMBIOA</td>\n",
       "      <td>5</td>\n",
       "      <td>207</td>\n",
       "      <td>191</td>\n",
       "      <td>181,64</td>\n",
       "      <td>11,25</td>\n",
       "    </tr>\n",
       "    <tr>\n",
       "      <th>60605</th>\n",
       "      <td>XAMBIOA</td>\n",
       "      <td>9</td>\n",
       "      <td>190</td>\n",
       "      <td>164</td>\n",
       "      <td>241,32</td>\n",
       "      <td>10,78</td>\n",
       "    </tr>\n",
       "    <tr>\n",
       "      <th>60606</th>\n",
       "      <td>XAMBIOA</td>\n",
       "      <td>5</td>\n",
       "      <td>207</td>\n",
       "      <td>191</td>\n",
       "      <td>181,64</td>\n",
       "      <td>11,25</td>\n",
       "    </tr>\n",
       "    <tr>\n",
       "      <th>60607</th>\n",
       "      <td>XAMBIOA</td>\n",
       "      <td>9</td>\n",
       "      <td>190</td>\n",
       "      <td>164</td>\n",
       "      <td>241,32</td>\n",
       "      <td>10,78</td>\n",
       "    </tr>\n",
       "  </tbody>\n",
       "</table>\n",
       "<p>60608 rows × 6 columns</p>\n",
       "</div>"
      ],
      "text/plain": [
       "      NOME_MUNICIPIO  ID_SERIE  NU_MATRICULADOS_CENSO  NU_PRESENTES MEDIA_LP  \\\n",
       "0         ACRELANDIA         5                     23            13   171,22   \n",
       "1         ACRELANDIA         9                    214           174    225,3   \n",
       "2         ACRELANDIA         9                    159           134   222,02   \n",
       "3         ACRELANDIA         5                     23            13   171,22   \n",
       "4         ACRELANDIA         9                     55            40    234,8   \n",
       "...              ...       ...                    ...           ...      ...   \n",
       "60603        XAMBIOA         5                     28            26   174,17   \n",
       "60604        XAMBIOA         5                    207           191   181,64   \n",
       "60605        XAMBIOA         9                    190           164   241,32   \n",
       "60606        XAMBIOA         5                    207           191   181,64   \n",
       "60607        XAMBIOA         9                    190           164   241,32   \n",
       "\n",
       "      ERRO_PADRAO_LP  \n",
       "0                  0  \n",
       "1                ,71  \n",
       "2                  0  \n",
       "3                  0  \n",
       "4               3,26  \n",
       "...              ...  \n",
       "60603              0  \n",
       "60604          11,25  \n",
       "60605          10,78  \n",
       "60606          11,25  \n",
       "60607          10,78  \n",
       "\n",
       "[60608 rows x 6 columns]"
      ]
     },
     "execution_count": 78,
     "metadata": {},
     "output_type": "execute_result"
    }
   ],
   "source": [
    "data = pd.read_csv(r'C:\\Users\\bcn20\\Desktop\\Microdados\\TS_RESULTADO_MUNICIPIO.csv', delimiter=';', encoding='iso-8859-1', usecols=['NOME_MUNICIPIO', 'ID_SERIE', 'NU_MATRICULADOS_CENSO', 'NU_PRESENTES', 'MEDIA_LP', 'ERRO_PADRAO_LP' ])\n",
    "data"
   ]
  },
  {
   "cell_type": "code",
   "execution_count": null,
   "metadata": {},
   "outputs": [],
   "source": []
  },
  {
   "cell_type": "code",
   "execution_count": 89,
   "metadata": {},
   "outputs": [
    {
     "data": {
      "text/plain": [
       "NOME_MUNICIPIO           60608\n",
       "ID_SERIE                 60608\n",
       "NU_MATRICULADOS_CENSO    60608\n",
       "NU_PRESENTES             60608\n",
       "MEDIA_LP                 60608\n",
       "ERRO_PADRAO_LP           60608\n",
       "dtype: int64"
      ]
     },
     "execution_count": 89,
     "metadata": {},
     "output_type": "execute_result"
    }
   ],
   "source": [
    "data.count()"
   ]
  },
  {
   "cell_type": "code",
   "execution_count": null,
   "metadata": {},
   "outputs": [],
   "source": []
  },
  {
   "cell_type": "code",
   "execution_count": 88,
   "metadata": {},
   "outputs": [
    {
     "data": {
      "text/html": [
       "<div>\n",
       "<style scoped>\n",
       "    .dataframe tbody tr th:only-of-type {\n",
       "        vertical-align: middle;\n",
       "    }\n",
       "\n",
       "    .dataframe tbody tr th {\n",
       "        vertical-align: top;\n",
       "    }\n",
       "\n",
       "    .dataframe thead th {\n",
       "        text-align: right;\n",
       "    }\n",
       "</style>\n",
       "<table border=\"1\" class=\"dataframe\">\n",
       "  <thead>\n",
       "    <tr style=\"text-align: right;\">\n",
       "      <th></th>\n",
       "      <th>NOME_MUNICIPIO</th>\n",
       "      <th>ID_SERIE</th>\n",
       "      <th>NU_MATRICULADOS_CENSO</th>\n",
       "      <th>NU_PRESENTES</th>\n",
       "      <th>MEDIA_LP</th>\n",
       "      <th>ERRO_PADRAO_LP</th>\n",
       "    </tr>\n",
       "  </thead>\n",
       "  <tbody>\n",
       "    <tr>\n",
       "      <th>0</th>\n",
       "      <td>ACRELANDIA</td>\n",
       "      <td>5</td>\n",
       "      <td>23</td>\n",
       "      <td>13</td>\n",
       "      <td>171,22</td>\n",
       "      <td>0</td>\n",
       "    </tr>\n",
       "    <tr>\n",
       "      <th>3</th>\n",
       "      <td>ACRELANDIA</td>\n",
       "      <td>5</td>\n",
       "      <td>23</td>\n",
       "      <td>13</td>\n",
       "      <td>171,22</td>\n",
       "      <td>0</td>\n",
       "    </tr>\n",
       "    <tr>\n",
       "      <th>5</th>\n",
       "      <td>ACRELANDIA</td>\n",
       "      <td>5</td>\n",
       "      <td>228</td>\n",
       "      <td>150</td>\n",
       "      <td>180,73</td>\n",
       "      <td>3,85</td>\n",
       "    </tr>\n",
       "    <tr>\n",
       "      <th>7</th>\n",
       "      <td>ACRELANDIA</td>\n",
       "      <td>5</td>\n",
       "      <td>150</td>\n",
       "      <td>98</td>\n",
       "      <td>178,47</td>\n",
       "      <td>1,25</td>\n",
       "    </tr>\n",
       "    <tr>\n",
       "      <th>8</th>\n",
       "      <td>ACRELANDIA</td>\n",
       "      <td>5</td>\n",
       "      <td>78</td>\n",
       "      <td>52</td>\n",
       "      <td>185,08</td>\n",
       "      <td>12,83</td>\n",
       "    </tr>\n",
       "    <tr>\n",
       "      <th>...</th>\n",
       "      <td>...</td>\n",
       "      <td>...</td>\n",
       "      <td>...</td>\n",
       "      <td>...</td>\n",
       "      <td>...</td>\n",
       "      <td>...</td>\n",
       "    </tr>\n",
       "    <tr>\n",
       "      <th>60600</th>\n",
       "      <td>XAMBIOA</td>\n",
       "      <td>5</td>\n",
       "      <td>179</td>\n",
       "      <td>165</td>\n",
       "      <td>182,81</td>\n",
       "      <td>12,7</td>\n",
       "    </tr>\n",
       "    <tr>\n",
       "      <th>60602</th>\n",
       "      <td>XAMBIOA</td>\n",
       "      <td>5</td>\n",
       "      <td>28</td>\n",
       "      <td>26</td>\n",
       "      <td>174,17</td>\n",
       "      <td>0</td>\n",
       "    </tr>\n",
       "    <tr>\n",
       "      <th>60603</th>\n",
       "      <td>XAMBIOA</td>\n",
       "      <td>5</td>\n",
       "      <td>28</td>\n",
       "      <td>26</td>\n",
       "      <td>174,17</td>\n",
       "      <td>0</td>\n",
       "    </tr>\n",
       "    <tr>\n",
       "      <th>60604</th>\n",
       "      <td>XAMBIOA</td>\n",
       "      <td>5</td>\n",
       "      <td>207</td>\n",
       "      <td>191</td>\n",
       "      <td>181,64</td>\n",
       "      <td>11,25</td>\n",
       "    </tr>\n",
       "    <tr>\n",
       "      <th>60606</th>\n",
       "      <td>XAMBIOA</td>\n",
       "      <td>5</td>\n",
       "      <td>207</td>\n",
       "      <td>191</td>\n",
       "      <td>181,64</td>\n",
       "      <td>11,25</td>\n",
       "    </tr>\n",
       "  </tbody>\n",
       "</table>\n",
       "<p>29990 rows × 6 columns</p>\n",
       "</div>"
      ],
      "text/plain": [
       "      NOME_MUNICIPIO  ID_SERIE  NU_MATRICULADOS_CENSO  NU_PRESENTES MEDIA_LP  \\\n",
       "0         ACRELANDIA         5                     23            13   171,22   \n",
       "3         ACRELANDIA         5                     23            13   171,22   \n",
       "5         ACRELANDIA         5                    228           150   180,73   \n",
       "7         ACRELANDIA         5                    150            98   178,47   \n",
       "8         ACRELANDIA         5                     78            52   185,08   \n",
       "...              ...       ...                    ...           ...      ...   \n",
       "60600        XAMBIOA         5                    179           165   182,81   \n",
       "60602        XAMBIOA         5                     28            26   174,17   \n",
       "60603        XAMBIOA         5                     28            26   174,17   \n",
       "60604        XAMBIOA         5                    207           191   181,64   \n",
       "60606        XAMBIOA         5                    207           191   181,64   \n",
       "\n",
       "      ERRO_PADRAO_LP  \n",
       "0                  0  \n",
       "3                  0  \n",
       "5               3,85  \n",
       "7               1,25  \n",
       "8              12,83  \n",
       "...              ...  \n",
       "60600           12,7  \n",
       "60602              0  \n",
       "60603              0  \n",
       "60604          11,25  \n",
       "60606          11,25  \n",
       "\n",
       "[29990 rows x 6 columns]"
      ]
     },
     "execution_count": 88,
     "metadata": {},
     "output_type": "execute_result"
    }
   ],
   "source": [
    "data[data[\"ID_SERIE\"] < 6] \n"
   ]
  },
  {
   "cell_type": "code",
   "execution_count": null,
   "metadata": {},
   "outputs": [],
   "source": []
  },
  {
   "cell_type": "code",
   "execution_count": 87,
   "metadata": {},
   "outputs": [
    {
     "data": {
      "text/html": [
       "<div>\n",
       "<style scoped>\n",
       "    .dataframe tbody tr th:only-of-type {\n",
       "        vertical-align: middle;\n",
       "    }\n",
       "\n",
       "    .dataframe tbody tr th {\n",
       "        vertical-align: top;\n",
       "    }\n",
       "\n",
       "    .dataframe thead th {\n",
       "        text-align: right;\n",
       "    }\n",
       "</style>\n",
       "<table border=\"1\" class=\"dataframe\">\n",
       "  <thead>\n",
       "    <tr style=\"text-align: right;\">\n",
       "      <th></th>\n",
       "      <th>NOME_MUNICIPIO</th>\n",
       "      <th>ID_SERIE</th>\n",
       "      <th>NU_MATRICULADOS_CENSO</th>\n",
       "      <th>NU_PRESENTES</th>\n",
       "      <th>MEDIA_LP</th>\n",
       "      <th>ERRO_PADRAO_LP</th>\n",
       "    </tr>\n",
       "  </thead>\n",
       "  <tbody>\n",
       "    <tr>\n",
       "      <th>60603</th>\n",
       "      <td>XAMBIOA</td>\n",
       "      <td>5</td>\n",
       "      <td>28</td>\n",
       "      <td>26</td>\n",
       "      <td>174,17</td>\n",
       "      <td>0</td>\n",
       "    </tr>\n",
       "    <tr>\n",
       "      <th>60604</th>\n",
       "      <td>XAMBIOA</td>\n",
       "      <td>5</td>\n",
       "      <td>207</td>\n",
       "      <td>191</td>\n",
       "      <td>181,64</td>\n",
       "      <td>11,25</td>\n",
       "    </tr>\n",
       "    <tr>\n",
       "      <th>60605</th>\n",
       "      <td>XAMBIOA</td>\n",
       "      <td>9</td>\n",
       "      <td>190</td>\n",
       "      <td>164</td>\n",
       "      <td>241,32</td>\n",
       "      <td>10,78</td>\n",
       "    </tr>\n",
       "    <tr>\n",
       "      <th>60606</th>\n",
       "      <td>XAMBIOA</td>\n",
       "      <td>5</td>\n",
       "      <td>207</td>\n",
       "      <td>191</td>\n",
       "      <td>181,64</td>\n",
       "      <td>11,25</td>\n",
       "    </tr>\n",
       "    <tr>\n",
       "      <th>60607</th>\n",
       "      <td>XAMBIOA</td>\n",
       "      <td>9</td>\n",
       "      <td>190</td>\n",
       "      <td>164</td>\n",
       "      <td>241,32</td>\n",
       "      <td>10,78</td>\n",
       "    </tr>\n",
       "  </tbody>\n",
       "</table>\n",
       "</div>"
      ],
      "text/plain": [
       "      NOME_MUNICIPIO  ID_SERIE  NU_MATRICULADOS_CENSO  NU_PRESENTES MEDIA_LP  \\\n",
       "60603        XAMBIOA         5                     28            26   174,17   \n",
       "60604        XAMBIOA         5                    207           191   181,64   \n",
       "60605        XAMBIOA         9                    190           164   241,32   \n",
       "60606        XAMBIOA         5                    207           191   181,64   \n",
       "60607        XAMBIOA         9                    190           164   241,32   \n",
       "\n",
       "      ERRO_PADRAO_LP  \n",
       "60603              0  \n",
       "60604          11,25  \n",
       "60605          10,78  \n",
       "60606          11,25  \n",
       "60607          10,78  "
      ]
     },
     "execution_count": 87,
     "metadata": {},
     "output_type": "execute_result"
    }
   ],
   "source": [
    "data.tail()  #5 ultimoas linhas"
   ]
  },
  {
   "cell_type": "code",
   "execution_count": null,
   "metadata": {},
   "outputs": [],
   "source": []
  },
  {
   "cell_type": "code",
   "execution_count": 81,
   "metadata": {},
   "outputs": [
    {
     "data": {
      "text/plain": [
       "<matplotlib.axes._subplots.AxesSubplot at 0x1fb6c79d048>"
      ]
     },
     "execution_count": 81,
     "metadata": {},
     "output_type": "execute_result"
    },
    {
     "data": {
      "image/png": "[encoded data removed]",
      "text/plain": [
       "<Figure size 432x288 with 1 Axes>"
      ]
     },
     "metadata": {},
     "output_type": "display_data"
    }
   ],
   "source": [
    "data[\"ID_SERIE\"].value_counts().plot.pie()"
   ]
  },
  {
   "cell_type": "code",
   "execution_count": 63,
   "metadata": {},
   "outputs": [
    {
     "data": {
      "text/plain": [
       "207"
      ]
     },
     "execution_count": 63,
     "metadata": {},
     "output_type": "execute_result"
    }
   ],
   "source": [
    "data.loc[60606, 'NU_MATRICULADOS_CENSO']"
   ]
  },
  {
   "cell_type": "code",
   "execution_count": 86,
   "metadata": {},
   "outputs": [
    {
     "data": {
      "text/plain": [
       "0        False\n",
       "1        False\n",
       "2        False\n",
       "3         True\n",
       "4        False\n",
       "         ...  \n",
       "60603     True\n",
       "60604    False\n",
       "60605     True\n",
       "60606     True\n",
       "60607     True\n",
       "Length: 60608, dtype: bool"
      ]
     },
     "execution_count": 86,
     "metadata": {},
     "output_type": "execute_result"
    }
   ],
   "source": [
    "data.duplicated() "
   ]
  },
  {
   "cell_type": "code",
   "execution_count": 91,
   "metadata": {},
   "outputs": [
    {
     "data": {
      "text/plain": [
       "<matplotlib.axes._subplots.AxesSubplot at 0x1fb6c74a940>"
      ]
     },
     "execution_count": 91,
     "metadata": {},
     "output_type": "execute_result"
    },
    {
     "data": {
      "image/png": "[encoded data removed]",
      "text/plain": [
       "<Figure size 432x288 with 1 Axes>"
      ]
     },
     "metadata": {
      "needs_background": "light"
     },
     "output_type": "display_data"
    }
   ],
   "source": [
    "data.groupby('NOME_MUNICIPIO').size().sort_values().plot(kind='barh')"
   ]
  },
  {
   "cell_type": "code",
   "execution_count": null,
   "metadata": {},
   "outputs": [],
   "source": []
  },
  {
   "cell_type": "code",
   "execution_count": null,
   "metadata": {},
   "outputs": [],
   "source": []
  },
  {
   "cell_type": "code",
   "execution_count": null,
   "metadata": {},
   "outputs": [],
   "source": []
  },
  {
   "cell_type": "code",
   "execution_count": null,
   "metadata": {},
   "outputs": [],
   "source": []
  },
  {
   "cell_type": "code",
   "execution_count": null,
   "metadata": {},
   "outputs": [],
   "source": []
  },
  {
   "cell_type": "code",
   "execution_count": null,
   "metadata": {},
   "outputs": [],
   "source": []
  },
  {
   "cell_type": "code",
   "execution_count": null,
   "metadata": {},
   "outputs": [],
   "source": []
  },
  {
   "cell_type": "code",
   "execution_count": null,
   "metadata": {},
   "outputs": [],
   "source": []
  },
  {
   "cell_type": "code",
   "execution_count": null,
   "metadata": {},
   "outputs": [],
   "source": []
  },
  {
   "cell_type": "code",
   "execution_count": null,
   "metadata": {},
   "outputs": [],
   "source": []
  },
  {
   "cell_type": "code",
   "execution_count": null,
   "metadata": {},
   "outputs": [],
   "source": []
  },
  {
   "cell_type": "code",
   "execution_count": null,
   "metadata": {},
   "outputs": [],
   "source": []
  },
  {
   "cell_type": "code",
   "execution_count": null,
   "metadata": {},
   "outputs": [],
   "source": []
  },
  {
   "cell_type": "code",
   "execution_count": null,
   "metadata": {},
   "outputs": [],
   "source": []
  },
  {
   "cell_type": "code",
   "execution_count": null,
   "metadata": {},
   "outputs": [],
   "source": []
  },
  {
   "cell_type": "code",
   "execution_count": null,
   "metadata": {},
   "outputs": [],
   "source": []
  }
 ],
 "metadata": {
  "kernelspec": {
   "display_name": "Python 3",
   "language": "python",
   "name": "python3"
  },
  "language_info": {
   "codemirror_mode": {
    "name": "ipython",
    "version": 3
   },
   "file_extension": ".py",
   "mimetype": "text/x-python",
   "name": "python",
   "nbconvert_exporter": "python",
   "pygments_lexer": "ipython3",
   "version": "3.6.0"
  }
 },
 "nbformat": 4,
 "nbformat_minor": 2
}
